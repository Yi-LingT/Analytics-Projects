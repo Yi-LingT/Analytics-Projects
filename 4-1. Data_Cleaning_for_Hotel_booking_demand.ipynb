{
  "nbformat": 4,
  "nbformat_minor": 0,
  "metadata": {
    "colab": {
      "provenance": []
    },
    "kernelspec": {
      "name": "python3",
      "display_name": "Python 3"
    },
    "language_info": {
      "name": "python"
    }
  },
  "cells": [
    {
      "cell_type": "markdown",
      "source": [
        "**Step 1: Import necessary libraries and load the data**"
      ],
      "metadata": {
        "id": "9Ap6EPGDSq-Y"
      }
    },
    {
      "cell_type": "code",
      "source": [
        "import pandas as pd\n",
        "import numpy as np\n",
        "import matplotlib.pyplot as plt\n",
        "import seaborn as sns\n",
        "\n",
        "# Load the data\n",
        "df = pd.read_csv('/content/hotel_bookings.csv')\n",
        "print(f\"Dataset shape: {df.shape}\")"
      ],
      "metadata": {
        "colab": {
          "base_uri": "https://localhost:8080/"
        },
        "id": "3dTuNfyFKWBI",
        "outputId": "5fcd16b6-d259-418c-93e9-fb4162d5eb7a"
      },
      "execution_count": null,
      "outputs": [
        {
          "output_type": "stream",
          "name": "stdout",
          "text": [
            "Dataset shape: (7324, 32)\n"
          ]
        }
      ]
    },
    {
      "cell_type": "markdown",
      "source": [
        "**Step 2: Initial data exploration**"
      ],
      "metadata": {
        "id": "gyrW7toYSyfS"
      }
    },
    {
      "cell_type": "code",
      "source": [
        "# Display basic information about the dataset\n",
        "print(df.info())\n",
        "\n",
        "# Show the first few rows\n",
        "print(df.head())\n",
        "\n",
        "# Display summary statistics\n",
        "print(df.describe())\n",
        "\n",
        "# Check for missing values\n",
        "print(df.isnull().sum())"
      ],
      "metadata": {
        "colab": {
          "base_uri": "https://localhost:8080/"
        },
        "id": "ci2TC24bKa01",
        "outputId": "a6e67a13-0ee7-4866-982e-6829ca1d3e86"
      },
      "execution_count": null,
      "outputs": [
        {
          "output_type": "stream",
          "name": "stdout",
          "text": [
            "<class 'pandas.core.frame.DataFrame'>\n",
            "RangeIndex: 7324 entries, 0 to 7323\n",
            "Data columns (total 32 columns):\n",
            " #   Column                          Non-Null Count  Dtype  \n",
            "---  ------                          --------------  -----  \n",
            " 0   hotel                           7324 non-null   object \n",
            " 1   is_canceled                     7324 non-null   int64  \n",
            " 2   lead_time                       7324 non-null   int64  \n",
            " 3   arrival_date_year               7324 non-null   int64  \n",
            " 4   arrival_date_month              7324 non-null   object \n",
            " 5   arrival_date_week_number        7323 non-null   float64\n",
            " 6   arrival_date_day_of_month       7323 non-null   float64\n",
            " 7   stays_in_weekend_nights         7323 non-null   float64\n",
            " 8   stays_in_week_nights            7323 non-null   float64\n",
            " 9   adults                          7323 non-null   float64\n",
            " 10  children                        7323 non-null   float64\n",
            " 11  babies                          7323 non-null   float64\n",
            " 12  meal                            7323 non-null   object \n",
            " 13  country                         7320 non-null   object \n",
            " 14  market_segment                  7323 non-null   object \n",
            " 15  distribution_channel            7323 non-null   object \n",
            " 16  is_repeated_guest               7323 non-null   float64\n",
            " 17  previous_cancellations          7323 non-null   float64\n",
            " 18  previous_bookings_not_canceled  7323 non-null   float64\n",
            " 19  reserved_room_type              7323 non-null   object \n",
            " 20  assigned_room_type              7323 non-null   object \n",
            " 21  booking_changes                 7323 non-null   float64\n",
            " 22  deposit_type                    7323 non-null   object \n",
            " 23  agent                           6167 non-null   float64\n",
            " 24  company                         405 non-null    float64\n",
            " 25  days_in_waiting_list            7323 non-null   float64\n",
            " 26  customer_type                   7323 non-null   object \n",
            " 27  adr                             7323 non-null   float64\n",
            " 28  required_car_parking_spaces     7323 non-null   float64\n",
            " 29  total_of_special_requests       7323 non-null   float64\n",
            " 30  reservation_status              7323 non-null   object \n",
            " 31  reservation_status_date         7323 non-null   object \n",
            "dtypes: float64(17), int64(3), object(12)\n",
            "memory usage: 1.8+ MB\n",
            "None\n",
            "          hotel  is_canceled  lead_time  arrival_date_year arrival_date_month  \\\n",
            "0  Resort Hotel            0        342               2015               July   \n",
            "1  Resort Hotel            0        737               2015               July   \n",
            "2  Resort Hotel            0          7               2015               July   \n",
            "3  Resort Hotel            0         13               2015               July   \n",
            "4  Resort Hotel            0         14               2015               July   \n",
            "\n",
            "   arrival_date_week_number  arrival_date_day_of_month  \\\n",
            "0                      27.0                        1.0   \n",
            "1                      27.0                        1.0   \n",
            "2                      27.0                        1.0   \n",
            "3                      27.0                        1.0   \n",
            "4                      27.0                        1.0   \n",
            "\n",
            "   stays_in_weekend_nights  stays_in_week_nights  adults  ...  deposit_type  \\\n",
            "0                      0.0                   0.0     2.0  ...    No Deposit   \n",
            "1                      0.0                   0.0     2.0  ...    No Deposit   \n",
            "2                      0.0                   1.0     1.0  ...    No Deposit   \n",
            "3                      0.0                   1.0     1.0  ...    No Deposit   \n",
            "4                      0.0                   2.0     2.0  ...    No Deposit   \n",
            "\n",
            "   agent company days_in_waiting_list customer_type   adr  \\\n",
            "0    NaN     NaN                  0.0     Transient   0.0   \n",
            "1    NaN     NaN                  0.0     Transient   0.0   \n",
            "2    NaN     NaN                  0.0     Transient  75.0   \n",
            "3  304.0     NaN                  0.0     Transient  75.0   \n",
            "4  240.0     NaN                  0.0     Transient  98.0   \n",
            "\n",
            "   required_car_parking_spaces  total_of_special_requests  reservation_status  \\\n",
            "0                          0.0                        0.0           Check-Out   \n",
            "1                          0.0                        0.0           Check-Out   \n",
            "2                          0.0                        0.0           Check-Out   \n",
            "3                          0.0                        0.0           Check-Out   \n",
            "4                          0.0                        1.0           Check-Out   \n",
            "\n",
            "  reservation_status_date  \n",
            "0              2015-07-01  \n",
            "1              2015-07-01  \n",
            "2              2015-07-02  \n",
            "3              2015-07-02  \n",
            "4              2015-07-03  \n",
            "\n",
            "[5 rows x 32 columns]\n",
            "       is_canceled    lead_time  arrival_date_year  arrival_date_week_number  \\\n",
            "count  7324.000000  7324.000000        7324.000000               7323.000000   \n",
            "mean      0.544238    99.665620        2015.489623                 28.785334   \n",
            "std       0.498073    81.012128           0.499926                 12.519150   \n",
            "min       0.000000     0.000000        2015.000000                  1.000000   \n",
            "25%       0.000000    34.000000        2015.000000                 19.000000   \n",
            "50%       1.000000    80.000000        2015.000000                 29.000000   \n",
            "75%       1.000000   154.000000        2016.000000                 39.000000   \n",
            "max       1.000000   737.000000        2016.000000                 53.000000   \n",
            "\n",
            "       arrival_date_day_of_month  stays_in_weekend_nights  \\\n",
            "count                7323.000000              7323.000000   \n",
            "mean                   15.963813                 1.265328   \n",
            "std                     9.010036                 1.156521   \n",
            "min                     1.000000                 0.000000   \n",
            "25%                     8.000000                 0.000000   \n",
            "50%                    16.000000                 1.000000   \n",
            "75%                    24.000000                 2.000000   \n",
            "max                    31.000000                13.000000   \n",
            "\n",
            "       stays_in_week_nights       adults     children       babies  \\\n",
            "count           7323.000000  7323.000000  7323.000000  7323.000000   \n",
            "mean               3.377031     1.952205     0.121535     0.015294   \n",
            "std                2.445361     1.310937     0.451383     0.124935   \n",
            "min                0.000000     0.000000     0.000000     0.000000   \n",
            "25%                2.000000     2.000000     0.000000     0.000000   \n",
            "50%                3.000000     2.000000     0.000000     0.000000   \n",
            "75%                5.000000     2.000000     0.000000     0.000000   \n",
            "max               33.000000    55.000000    10.000000     2.000000   \n",
            "\n",
            "       is_repeated_guest  previous_cancellations  \\\n",
            "count             7323.0                  7323.0   \n",
            "mean                 0.0                     0.0   \n",
            "std                  0.0                     0.0   \n",
            "min                  0.0                     0.0   \n",
            "25%                  0.0                     0.0   \n",
            "50%                  0.0                     0.0   \n",
            "75%                  0.0                     0.0   \n",
            "max                  0.0                     0.0   \n",
            "\n",
            "       previous_bookings_not_canceled  booking_changes        agent  \\\n",
            "count                          7323.0      7323.000000  6167.000000   \n",
            "mean                              0.0         0.217261   215.289282   \n",
            "std                               0.0         0.610316    79.445398   \n",
            "min                               0.0         0.000000     2.000000   \n",
            "25%                               0.0         0.000000   240.000000   \n",
            "50%                               0.0         0.000000   240.000000   \n",
            "75%                               0.0         0.000000   242.000000   \n",
            "max                               0.0        17.000000   405.000000   \n",
            "\n",
            "          company  days_in_waiting_list          adr  \\\n",
            "count  405.000000           7323.000000  7323.000000   \n",
            "mean   232.637037              1.404479    90.993664   \n",
            "std     82.178110             11.833602    50.408462   \n",
            "min     12.000000              0.000000     0.000000   \n",
            "25%    223.000000              0.000000    55.000000   \n",
            "50%    223.000000              0.000000    79.330000   \n",
            "75%    281.000000              0.000000   118.245000   \n",
            "max    416.000000            122.000000   332.000000   \n",
            "\n",
            "       required_car_parking_spaces  total_of_special_requests  \n",
            "count                  7323.000000                7323.000000  \n",
            "mean                      0.070736                   0.546770  \n",
            "std                       0.257994                   0.797833  \n",
            "min                       0.000000                   0.000000  \n",
            "25%                       0.000000                   0.000000  \n",
            "50%                       0.000000                   0.000000  \n",
            "75%                       0.000000                   1.000000  \n",
            "max                       2.000000                   4.000000  \n",
            "hotel                                0\n",
            "is_canceled                          0\n",
            "lead_time                            0\n",
            "arrival_date_year                    0\n",
            "arrival_date_month                   0\n",
            "arrival_date_week_number             1\n",
            "arrival_date_day_of_month            1\n",
            "stays_in_weekend_nights              1\n",
            "stays_in_week_nights                 1\n",
            "adults                               1\n",
            "children                             1\n",
            "babies                               1\n",
            "meal                                 1\n",
            "country                              4\n",
            "market_segment                       1\n",
            "distribution_channel                 1\n",
            "is_repeated_guest                    1\n",
            "previous_cancellations               1\n",
            "previous_bookings_not_canceled       1\n",
            "reserved_room_type                   1\n",
            "assigned_room_type                   1\n",
            "booking_changes                      1\n",
            "deposit_type                         1\n",
            "agent                             1157\n",
            "company                           6919\n",
            "days_in_waiting_list                 1\n",
            "customer_type                        1\n",
            "adr                                  1\n",
            "required_car_parking_spaces          1\n",
            "total_of_special_requests            1\n",
            "reservation_status                   1\n",
            "reservation_status_date              1\n",
            "dtype: int64\n"
          ]
        }
      ]
    },
    {
      "cell_type": "markdown",
      "source": [
        "**Step 3: Handle missing values**"
      ],
      "metadata": {
        "id": "_2NwYlC3S-Ul"
      }
    },
    {
      "cell_type": "code",
      "source": [
        "# Check for missing values before handling\n",
        "print(\"Missing values before handling:\")\n",
        "print(df.isnull().sum())\n",
        "\n",
        "# Handle missing values (example for 'children' column)\n",
        "df['children'] = df['children'].fillna(0)\n",
        "\n",
        "# For categorical columns, fill with a new category\n",
        "df['country'] = df['country'].fillna('Unknown')\n",
        "\n",
        "# Check for missing values after handling\n",
        "print(\"\\nMissing values after handling:\")\n",
        "print(df.isnull().sum())"
      ],
      "metadata": {
        "colab": {
          "base_uri": "https://localhost:8080/"
        },
        "id": "-RNXMnjYLobr",
        "outputId": "e4eae9d7-1592-4b53-8f99-8d0286902942"
      },
      "execution_count": null,
      "outputs": [
        {
          "output_type": "stream",
          "name": "stdout",
          "text": [
            "Missing values before handling:\n",
            "hotel                                0\n",
            "is_canceled                          0\n",
            "lead_time                            0\n",
            "arrival_date_year                    0\n",
            "arrival_date_month                   0\n",
            "arrival_date_week_number             1\n",
            "arrival_date_day_of_month            1\n",
            "stays_in_weekend_nights              1\n",
            "stays_in_week_nights                 1\n",
            "adults                               1\n",
            "children                             1\n",
            "babies                               1\n",
            "meal                                 1\n",
            "country                              4\n",
            "market_segment                       1\n",
            "distribution_channel                 1\n",
            "is_repeated_guest                    1\n",
            "previous_cancellations               1\n",
            "previous_bookings_not_canceled       1\n",
            "reserved_room_type                   1\n",
            "assigned_room_type                   1\n",
            "booking_changes                      1\n",
            "deposit_type                         1\n",
            "agent                             1157\n",
            "company                           6919\n",
            "days_in_waiting_list                 1\n",
            "customer_type                        1\n",
            "adr                                  1\n",
            "required_car_parking_spaces          1\n",
            "total_of_special_requests            1\n",
            "reservation_status                   1\n",
            "reservation_status_date              1\n",
            "dtype: int64\n",
            "\n",
            "Missing values after handling:\n",
            "hotel                                0\n",
            "is_canceled                          0\n",
            "lead_time                            0\n",
            "arrival_date_year                    0\n",
            "arrival_date_month                   0\n",
            "arrival_date_week_number             1\n",
            "arrival_date_day_of_month            1\n",
            "stays_in_weekend_nights              1\n",
            "stays_in_week_nights                 1\n",
            "adults                               1\n",
            "children                             0\n",
            "babies                               1\n",
            "meal                                 1\n",
            "country                              0\n",
            "market_segment                       1\n",
            "distribution_channel                 1\n",
            "is_repeated_guest                    1\n",
            "previous_cancellations               1\n",
            "previous_bookings_not_canceled       1\n",
            "reserved_room_type                   1\n",
            "assigned_room_type                   1\n",
            "booking_changes                      1\n",
            "deposit_type                         1\n",
            "agent                             1157\n",
            "company                           6919\n",
            "days_in_waiting_list                 1\n",
            "customer_type                        1\n",
            "adr                                  1\n",
            "required_car_parking_spaces          1\n",
            "total_of_special_requests            1\n",
            "reservation_status                   1\n",
            "reservation_status_date              1\n",
            "dtype: int64\n"
          ]
        }
      ]
    },
    {
      "cell_type": "markdown",
      "source": [
        "**Step 4: Remove duplicates**"
      ],
      "metadata": {
        "id": "NFvgtNN8U2Zp"
      }
    },
    {
      "cell_type": "code",
      "source": [
        "# Check for duplicates\n",
        "duplicate_count = df.duplicated().sum()\n",
        "print(f\"Number of duplicates: {duplicate_count}\")\n",
        "\n",
        "# If duplicates exist, remove them and show the result\n",
        "if duplicate_count > 0:\n",
        "    df = df.drop_duplicates()\n",
        "    print(f\"Shape after removing duplicates: {df.shape}\")\n",
        "\n"
      ],
      "metadata": {
        "colab": {
          "base_uri": "https://localhost:8080/"
        },
        "id": "3i8NPX29LsCJ",
        "outputId": "4f88b23e-ba02-4b51-e247-1b22a7307a85"
      },
      "execution_count": null,
      "outputs": [
        {
          "output_type": "stream",
          "name": "stdout",
          "text": [
            "Number of duplicates: 0\n"
          ]
        }
      ]
    },
    {
      "cell_type": "markdown",
      "source": [
        "**Step 5: Correct data types**"
      ],
      "metadata": {
        "id": "W2F-NKn6W0ud"
      }
    },
    {
      "cell_type": "code",
      "source": [
        "# Display current data types\n",
        "print(\"Data types before conversion:\")\n",
        "print(df.dtypes)\n",
        "\n",
        "# Convert 'reservation_status_date' to datetime\n",
        "df['reservation_status_date'] = pd.to_datetime(df['reservation_status_date'])\n",
        "\n",
        "# Ensure 'adr' is float\n",
        "df['adr'] = df['adr'].astype(float)\n",
        "\n",
        "# Display new data types\n",
        "print(\"\\nData types after conversion:\")\n",
        "print(df.dtypes)"
      ],
      "metadata": {
        "colab": {
          "base_uri": "https://localhost:8080/"
        },
        "id": "CV85jnaqSHt6",
        "outputId": "8bba37fd-c1c2-4037-eb63-7efef11964ff"
      },
      "execution_count": null,
      "outputs": [
        {
          "output_type": "stream",
          "name": "stdout",
          "text": [
            "Data types before conversion:\n",
            "hotel                              object\n",
            "is_canceled                         int64\n",
            "lead_time                           int64\n",
            "arrival_date_year                   int64\n",
            "arrival_date_month                 object\n",
            "arrival_date_week_number          float64\n",
            "arrival_date_day_of_month         float64\n",
            "stays_in_weekend_nights           float64\n",
            "stays_in_week_nights              float64\n",
            "adults                            float64\n",
            "children                          float64\n",
            "babies                            float64\n",
            "meal                               object\n",
            "country                            object\n",
            "market_segment                     object\n",
            "distribution_channel               object\n",
            "is_repeated_guest                 float64\n",
            "previous_cancellations            float64\n",
            "previous_bookings_not_canceled    float64\n",
            "reserved_room_type                 object\n",
            "assigned_room_type                 object\n",
            "booking_changes                   float64\n",
            "deposit_type                       object\n",
            "agent                             float64\n",
            "company                           float64\n",
            "days_in_waiting_list              float64\n",
            "customer_type                      object\n",
            "adr                               float64\n",
            "required_car_parking_spaces       float64\n",
            "total_of_special_requests         float64\n",
            "reservation_status                 object\n",
            "reservation_status_date            object\n",
            "dtype: object\n",
            "\n",
            "Data types after conversion:\n",
            "hotel                                     object\n",
            "is_canceled                                int64\n",
            "lead_time                                  int64\n",
            "arrival_date_year                          int64\n",
            "arrival_date_month                        object\n",
            "arrival_date_week_number                 float64\n",
            "arrival_date_day_of_month                float64\n",
            "stays_in_weekend_nights                  float64\n",
            "stays_in_week_nights                     float64\n",
            "adults                                   float64\n",
            "children                                 float64\n",
            "babies                                   float64\n",
            "meal                                      object\n",
            "country                                   object\n",
            "market_segment                            object\n",
            "distribution_channel                      object\n",
            "is_repeated_guest                        float64\n",
            "previous_cancellations                   float64\n",
            "previous_bookings_not_canceled           float64\n",
            "reserved_room_type                        object\n",
            "assigned_room_type                        object\n",
            "booking_changes                          float64\n",
            "deposit_type                              object\n",
            "agent                                    float64\n",
            "company                                  float64\n",
            "days_in_waiting_list                     float64\n",
            "customer_type                             object\n",
            "adr                                      float64\n",
            "required_car_parking_spaces              float64\n",
            "total_of_special_requests                float64\n",
            "reservation_status                        object\n",
            "reservation_status_date           datetime64[ns]\n",
            "dtype: object\n"
          ]
        }
      ]
    },
    {
      "cell_type": "markdown",
      "source": [
        "**Step 6: Handle outliers**"
      ],
      "metadata": {
        "id": "-xjx1XUCW7AU"
      }
    },
    {
      "cell_type": "code",
      "source": [
        "# Example for 'adr' column\n",
        "Q1 = df['adr'].quantile(0.25)\n",
        "Q3 = df['adr'].quantile(0.75)\n",
        "IQR = Q3 - Q1\n",
        "lower_bound = Q1 - 1.5 * IQR\n",
        "upper_bound = Q3 + 1.5 * IQR\n",
        "\n",
        "print(f\"ADR statistics before handling outliers:\")\n",
        "print(df['adr'].describe())\n",
        "\n",
        "df = df[(df['adr'] >= lower_bound) & (df['adr'] <= upper_bound)]\n",
        "\n",
        "print(f\"\\nADR statistics after handling outliers:\")\n",
        "print(df['adr'].describe())"
      ],
      "metadata": {
        "colab": {
          "base_uri": "https://localhost:8080/"
        },
        "id": "P0OIMYkCSMqw",
        "outputId": "96b23984-5b67-4dfe-9649-86fa55ba4bd6"
      },
      "execution_count": null,
      "outputs": [
        {
          "output_type": "stream",
          "name": "stdout",
          "text": [
            "ADR statistics before handling outliers:\n",
            "count    5487.000000\n",
            "mean       97.091881\n",
            "std        54.241078\n",
            "min         0.000000\n",
            "25%        56.000000\n",
            "50%        85.000000\n",
            "75%       130.150000\n",
            "max       332.000000\n",
            "Name: adr, dtype: float64\n",
            "\n",
            "ADR statistics after handling outliers:\n",
            "count    5426.000000\n",
            "mean       95.244095\n",
            "std        51.623025\n",
            "min         0.000000\n",
            "25%        56.000000\n",
            "50%        85.000000\n",
            "75%       128.705000\n",
            "max       241.000000\n",
            "Name: adr, dtype: float64\n"
          ]
        }
      ]
    },
    {
      "cell_type": "markdown",
      "source": [
        "**Step 7: Create Subtotals Columns**"
      ],
      "metadata": {
        "id": "dr7fe6pcXN9c"
      }
    },
    {
      "cell_type": "code",
      "source": [
        "# Create a total_guests column\n",
        "df['total_guests'] = df['adults'] + df['children'] + df['babies']\n",
        "\n",
        "# Create a stay_duration column\n",
        "df['stay_duration'] = df['stays_in_weekend_nights'] + df['stays_in_week_nights']\n",
        "\n",
        "print(\"New columns added:\")\n",
        "print(df[['total_guests', 'stay_duration']].describe())"
      ],
      "metadata": {
        "colab": {
          "base_uri": "https://localhost:8080/"
        },
        "id": "zJ8EB5fdXRW1",
        "outputId": "201b8156-6ec4-41e6-95dd-02ad6ddc15b6"
      },
      "execution_count": null,
      "outputs": [
        {
          "output_type": "stream",
          "name": "stdout",
          "text": [
            "New columns added:\n",
            "       total_guests  stay_duration\n",
            "count   5426.000000    5426.000000\n",
            "mean       2.146701       4.964615\n",
            "std        1.600992       3.477146\n",
            "min        0.000000       0.000000\n",
            "25%        2.000000       2.000000\n",
            "50%        2.000000       4.000000\n",
            "75%        2.000000       7.000000\n",
            "max       55.000000      46.000000\n"
          ]
        }
      ]
    },
    {
      "cell_type": "markdown",
      "source": [
        "**Step 8: Final check and save cleaned data**"
      ],
      "metadata": {
        "id": "6xZ9Vh6LZo1n"
      }
    },
    {
      "cell_type": "code",
      "source": [
        "# Final check for missing values\n",
        "print(\"Final check for missing values:\")\n",
        "print(df.isnull().sum())\n",
        "\n",
        "# Display final dataset info\n",
        "print(\"\\nFinal dataset info:\")\n",
        "print(df.info())\n",
        "\n",
        "# Save the cleaned dataset\n",
        "df.to_csv('cleaned_hotel_booking.csv', index=False)\n",
        "print(\"\\nCleaned dataset saved as 'cleaned_hotel_booking.csv'\")"
      ],
      "metadata": {
        "colab": {
          "base_uri": "https://localhost:8080/"
        },
        "id": "9rB14ZJtXjl6",
        "outputId": "db75abde-9ba5-448d-8b64-56576cd19bf5"
      },
      "execution_count": null,
      "outputs": [
        {
          "output_type": "stream",
          "name": "stdout",
          "text": [
            "Final check for missing values:\n",
            "hotel                                0\n",
            "is_canceled                          0\n",
            "lead_time                            0\n",
            "arrival_date_year                    0\n",
            "arrival_date_month                   0\n",
            "arrival_date_week_number             0\n",
            "arrival_date_day_of_month            0\n",
            "stays_in_weekend_nights              0\n",
            "stays_in_week_nights                 0\n",
            "adults                               0\n",
            "children                             0\n",
            "babies                               0\n",
            "meal                                 0\n",
            "country                              0\n",
            "market_segment                       0\n",
            "distribution_channel                 0\n",
            "is_repeated_guest                    0\n",
            "previous_cancellations               0\n",
            "previous_bookings_not_canceled       0\n",
            "reserved_room_type                   0\n",
            "assigned_room_type                   0\n",
            "booking_changes                      0\n",
            "deposit_type                         0\n",
            "agent                              715\n",
            "company                           5123\n",
            "days_in_waiting_list                 0\n",
            "customer_type                        0\n",
            "adr                                  0\n",
            "required_car_parking_spaces          0\n",
            "total_of_special_requests            0\n",
            "reservation_status                   0\n",
            "reservation_status_date              0\n",
            "total_guests                         0\n",
            "stay_duration                        0\n",
            "dtype: int64\n",
            "\n",
            "Final dataset info:\n",
            "<class 'pandas.core.frame.DataFrame'>\n",
            "Index: 5426 entries, 0 to 7322\n",
            "Data columns (total 34 columns):\n",
            " #   Column                          Non-Null Count  Dtype         \n",
            "---  ------                          --------------  -----         \n",
            " 0   hotel                           5426 non-null   object        \n",
            " 1   is_canceled                     5426 non-null   int64         \n",
            " 2   lead_time                       5426 non-null   int64         \n",
            " 3   arrival_date_year               5426 non-null   int64         \n",
            " 4   arrival_date_month              5426 non-null   object        \n",
            " 5   arrival_date_week_number        5426 non-null   float64       \n",
            " 6   arrival_date_day_of_month       5426 non-null   float64       \n",
            " 7   stays_in_weekend_nights         5426 non-null   float64       \n",
            " 8   stays_in_week_nights            5426 non-null   float64       \n",
            " 9   adults                          5426 non-null   float64       \n",
            " 10  children                        5426 non-null   float64       \n",
            " 11  babies                          5426 non-null   float64       \n",
            " 12  meal                            5426 non-null   object        \n",
            " 13  country                         5426 non-null   object        \n",
            " 14  market_segment                  5426 non-null   object        \n",
            " 15  distribution_channel            5426 non-null   object        \n",
            " 16  is_repeated_guest               5426 non-null   float64       \n",
            " 17  previous_cancellations          5426 non-null   float64       \n",
            " 18  previous_bookings_not_canceled  5426 non-null   float64       \n",
            " 19  reserved_room_type              5426 non-null   object        \n",
            " 20  assigned_room_type              5426 non-null   object        \n",
            " 21  booking_changes                 5426 non-null   float64       \n",
            " 22  deposit_type                    5426 non-null   object        \n",
            " 23  agent                           4711 non-null   float64       \n",
            " 24  company                         303 non-null    float64       \n",
            " 25  days_in_waiting_list            5426 non-null   float64       \n",
            " 26  customer_type                   5426 non-null   object        \n",
            " 27  adr                             5426 non-null   float64       \n",
            " 28  required_car_parking_spaces     5426 non-null   float64       \n",
            " 29  total_of_special_requests       5426 non-null   float64       \n",
            " 30  reservation_status              5426 non-null   object        \n",
            " 31  reservation_status_date         5426 non-null   datetime64[ns]\n",
            " 32  total_guests                    5426 non-null   float64       \n",
            " 33  stay_duration                   5426 non-null   float64       \n",
            "dtypes: datetime64[ns](1), float64(19), int64(3), object(11)\n",
            "memory usage: 1.4+ MB\n",
            "None\n",
            "\n",
            "Cleaned dataset saved as 'cleaned_hotel_booking.csv'\n"
          ]
        }
      ]
    }
  ]
}
